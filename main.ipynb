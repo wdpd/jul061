{
 "cells": [
  {
   "cell_type": "code",
   "execution_count": 2,
   "metadata": {
    "collapsed": true,
    "pycharm": {
     "is_executing": false,
     "name": "#%% 2.1\n"
    }
   },
   "outputs": [
    {
     "name": "stdout",
     "text": [
      "[1, 2, 3, 4, 5, 6, 7, 8, 9, 0]\n[2, 3, 4, 5, 6, 7, 8, 9, 0, 1]\n"
     ],
     "output_type": "stream"
    }
   ],
   "source": [
    "nums = [1,2,3,4,5,6,7,8,9,0]\n",
    "print(nums)\n",
    "nums = nums[1:]+nums[0:1]\n",
    "print(nums)"
   ]
  },
  {
   "cell_type": "code",
   "execution_count": 3,
   "outputs": [
    {
     "name": "stdout",
     "text": [
      "[91, 66, 70, 33, 0, 44, 0, 90, 24, 46, 63, 93, 46, 49, 54, 25, 16, 48, 87, 85, 42, 74, 70, 35, 58, 60, 16, 28, 3, 68, 83, 13, 73, 73, 99, 28, 30, 60, 53, 79, 65, 0, 77, 13, 18, 24, 19, 13, 71, 24, 53, 86, 23, 88, 73, 3, 50, 76, 97, 75, 57, 67, 21, 89, 32, 54, 13, 90, 67, 51, 63, 97, 63, 95, 2, 0, 96, 47, 5, 84, 92, 80, 69, 90, 37, 73, 94, 41, 58, 18, 38, 15, 63, 15, 23, 81, 19, 100, 96, 64]\n45\n[100, 99, 97, 97, 96, 96, 95, 94, 93, 92, 91, 90, 90, 90, 89, 88, 87, 86, 85, 84, 83, 81, 80, 79, 77, 76, 75, 74, 73, 73, 73, 73, 71, 70, 70, 69, 68, 67, 67, 66, 65, 64, 63, 63, 63, 63, 60, 60, 58, 58, 57, 54, 54, 53, 53, 51, 50, 49, 48, 47, 46, 46, 44, 42, 41, 38, 37, 35, 33, 32, 30, 28, 28, 25, 24, 24, 24, 23, 23, 21, 19, 19, 18, 18, 16, 16, 15, 15, 13, 13, 13, 13, 5, 3, 3, 2, 0, 0, 0, 0]\n"
     ],
     "output_type": "stream"
    }
   ],
   "source": [
    "import random\n",
    "\n",
    "score = [random.randint(0,100) for i in range(0,100)]\n",
    "    \n",
    "score_avg = sum(score) / len(score)\n",
    "\n",
    "low_count = 0\n",
    "for i in score :\n",
    "    if i<score_avg :\n",
    "        low_count = low_count + 1\n",
    "\n",
    "score_sorted = sorted(score, reverse=True)\n",
    "\n",
    "print(score)\n",
    "print(low_count)\n",
    "print(score_sorted)"
   ],
   "metadata": {
    "collapsed": false,
    "pycharm": {
     "name": "#%% 2.2\n",
     "is_executing": false
    }
   }
  },
  {
   "cell_type": "code",
   "execution_count": 4,
   "outputs": [
    {
     "name": "stdout",
     "text": [
      "How  are you?\nHow are you?\n"
     ],
     "output_type": "stream"
    }
   ],
   "source": [
    "string = \"How  are you?\"\n",
    "string_split = string.split(' ')\n",
    "string_formatted = ' '.join([i for i in string_split if i.strip()!=''])\n",
    "\n",
    "print(string)\n",
    "print(string_formatted)"
   ],
   "metadata": {
    "collapsed": false,
    "pycharm": {
     "name": "#%% 2.3\n",
     "is_executing": false
    }
   }
  },
  {
   "cell_type": "code",
   "execution_count": 12,
   "outputs": [
    {
     "name": "stdout",
     "text": [
      "832040\n"
     ],
     "output_type": "stream"
    }
   ],
   "source": [
    "def fibonacci(n) :\n",
    "    if n==0 :\n",
    "        return 0\n",
    "    elif n==1 :\n",
    "        return 1\n",
    "    else :\n",
    "        return fibonacci(n-1) + fibonacci(n-2)\n",
    "\n",
    "print(fibonacci(30))"
   ],
   "metadata": {
    "collapsed": false,
    "pycharm": {
     "name": "#%% 2.4\n",
     "is_executing": false
    }
   }
  },
  {
   "cell_type": "code",
   "execution_count": null,
   "outputs": [],
   "source": [
    "import math\n",
    "\n",
    "def equ21(a, b, c) :\n",
    "    delta = b*b - a*c\n",
    "    if delta<0 :\n",
    "        return False\n",
    "    elif delta==0 :\n",
    "        return -b/(2*a)\n",
    "    else :\n",
    "        return -(b+math.sqrt(delta))/(2*a), -(b-math.sqrt(delta))/(2*a)"
   ],
   "metadata": {
    "collapsed": false,
    "pycharm": {
     "name": "#%% 3.1\n"
    }
   }
  },
  {
   "cell_type": "code",
   "execution_count": 53,
   "outputs": [
    {
     "name": "stdout",
     "text": [
      "{'1': 12, '2': 56, '3': 77, '4': 82, '5': 20, '6': 33, '7': 12, '8': 81, '9': 90, '10': 38, '11': 90, '12': 91, '13': 68, '14': 47, '15': 62, '16': 12, '17': 30, '18': 7, '19': 6, '20': 3, '21': 100, '22': 70, '23': 84, '24': 0, '25': 86, '26': 0, '27': 0, '28': 3, '29': 83, '30': 62, '31': 71, '32': 58, '33': 100, '34': 63, '35': 94, '36': 58, '37': 91, '38': 85, '39': 88, '40': 59, '41': 65, '42': 34, '43': 46, '44': 65, '45': 28, '46': 57, '47': 100, '48': 90, '49': 68}\n55.61224489795919\n21:100\n33:100\n47:100\n35:94\n12:91\n37:91\n9:90\n11:90\n48:90\n39:88\n25:86\n38:85\n23:84\n29:83\n4:82\n8:81\n3:77\n31:71\n22:70\n13:68\n49:68\n41:65\n44:65\n34:63\n15:62\n30:62\n40:59\n32:58\n36:58\n46:57\n2:56\n14:47\n43:46\n10:38\n42:34\n6:33\n17:30\n45:28\n5:20\n1:12\n7:12\n16:12\n18:7\n19:6\n20:3\n28:3\n24:0\n26:0\n27:0\n"
     ],
     "output_type": "stream"
    }
   ],
   "source": [
    "def sco_swap(std_list, a, b) :\n",
    "    c,d = std_list[a],std_list[b]\n",
    "    std_list[a],std_list[b] = d,c\n",
    "    return std_list\n",
    "\n",
    "def sco_avg(std) :\n",
    "    score_list = list(std.values())\n",
    "    return sum(score_list) / len(score_list)\n",
    "\n",
    "def sco_sort(std) :\n",
    "    std_list = list(std.keys())\n",
    "    for i in range(0,len(std_list)-2) :\n",
    "        for j in range(0,len(std_list)-i-1) :\n",
    "            if std[std_list[j]]<std[std_list[j+1]] :\n",
    "                std_list = sco_swap(std_list, j, j+1)\n",
    "    return std_list\n",
    "\n",
    "student = {str(i):random.randint(0,100) for i in range(1,50)}\n",
    "\n",
    "print(student)\n",
    "print(sco_avg(student))\n",
    "student_list = sco_sort(student)\n",
    "for i in range(0,len(student_list)) :\n",
    "    print(str(student_list[i]) + ':' + str(student[student_list[i]]))"
   ],
   "metadata": {
    "collapsed": false,
    "pycharm": {
     "name": "#%% 3.2\n",
     "is_executing": false
    }
   }
  },
  {
   "cell_type": "code",
   "execution_count": 60,
   "outputs": [
    {
     "name": "stdout",
     "text": [
      "[2, 3, 5, 7, 11, 13, 17, 19, 23, 29, 31, 37, 41, 43, 47, 53, 59, 61, 67, 71, 73, 79, 83, 89, 97]\n"
     ],
     "output_type": "stream"
    }
   ],
   "source": [
    "def multiples(a, n) :\n",
    "    return [a*i for i in range(2,(n//a)+1)]\n",
    "\n",
    "def prime_finder(n) :\n",
    "    not_primes = set()\n",
    "    for i in range(2,n) :\n",
    "        not_primes.update(set(multiples(i,n)))\n",
    "        if i in not_primes : continue\n",
    "        for j in range(2,i) :\n",
    "            if i%j==0 :\n",
    "                not_primes.add(i)\n",
    "                break\n",
    "    return [i for i in range(2,n) if i not in not_primes]\n",
    "        \n",
    "print(prime_finder(100))\n"
   ],
   "metadata": {
    "collapsed": false,
    "pycharm": {
     "name": "#%% 3.3\n",
     "is_executing": false
    }
   }
  }
 ],
 "metadata": {
  "kernelspec": {
   "display_name": "Python 3",
   "language": "python",
   "name": "python3"
  },
  "language_info": {
   "codemirror_mode": {
    "name": "ipython",
    "version": 2
   },
   "file_extension": ".py",
   "mimetype": "text/x-python",
   "name": "python",
   "nbconvert_exporter": "python",
   "pygments_lexer": "ipython2",
   "version": "2.7.6"
  },
  "pycharm": {
   "stem_cell": {
    "cell_type": "raw",
    "source": [],
    "metadata": {
     "collapsed": false
    }
   }
  }
 },
 "nbformat": 4,
 "nbformat_minor": 0
}